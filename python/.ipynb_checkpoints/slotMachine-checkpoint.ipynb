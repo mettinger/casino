{
 "cells": [
  {
   "cell_type": "code",
   "execution_count": 6,
   "metadata": {},
   "outputs": [],
   "source": [
    "import numpy as np\n",
    "import itertools"
   ]
  },
  {
   "cell_type": "code",
   "execution_count": 7,
   "metadata": {},
   "outputs": [],
   "source": [
    "def makeSymbolList(numSymbolOnReel, numSymbolTotal, precision):\n",
    "    fenceposts = [round(i, int(np.log10(precision))) for i in list(np.random.random(size=numSymbolOnReel - 1))]\n",
    "    fenceposts = sorted([0] + fenceposts + [1])\n",
    "    symbols = np.random.choice(numSymbolTotal, size=numSymbolOnReel, replace=False)\n",
    "    symbolList = [(symbols[i],round((fenceposts[i+1] - fenceposts[i]), \n",
    "                                    int(np.log10(precision)))) for i in range(numSymbolOnReel)]\n",
    "    return symbolList\n",
    "    \n",
    "def makeMachine(numSymbolList, numSymbolsTotal, precision):\n",
    "    if numSymbolsTotal < max(numSymbolList):\n",
    "        print(\"Total number of symbols too small...\")\n",
    "        return\n",
    "    numReel = len(numSymbolList)\n",
    "    machineDefList = [sorted(makeSymbolList(numSymbolList[i], \n",
    "                                            numSymbolsTotal, precision),\n",
    "                             key=lambda x: x[1], reverse = True) for i in range(numReel)]\n",
    "    print(\"Probabilities sum to 1? \" + str([sum([j[1] for j in i]) for i in machineDefList]))\n",
    "    return machineDefList\n",
    "\n",
    "def evaluateMachine(machineDefList):\n",
    "    numReel = len(machineDefList)\n",
    "    probDict = {i:0 for i in range(1, numReel + 1)}\n",
    "    for thisTuple in itertools.product(*machineDefList):\n",
    "        thisCount = numReel + 1 - len(set([i[0] for i in thisTuple]))\n",
    "        thisProb = np.product([i[1] for i in thisTuple])\n",
    "        if thisCount == numReel:\n",
    "            probDict[str(thisTuple[0][0]) * numReel] = thisProb\n",
    "        probDict[thisCount] += thisProb\n",
    "    return probDict\n",
    "\n",
    "def probDictToSolidity(probDict, payoutKeys):\n",
    "    payoutString = \"\"\n",
    "    numPayout = len(payoutKeys)\n",
    "    for thisKey in payoutKeys:\n",
    "        thisProb = probDict[thisKey]\n",
    "        thisString = \"    if (maxMatch == %s) {\\n      return betAmount * %s;\\n    }\\n\" % (thisKey, str(int(1./(thisProb * numPayout))))\n",
    "        payoutString += thisString\n",
    "    return payoutString\n",
    "\n",
    "def makeMachineToSolidity(machine):\n",
    "    flatMachine = [item for sublist in machine for item in sublist]\n",
    "    precision = max([10**(len(str(i[1]).split(\".\")[1])) for i in flatMachine])\n",
    "    solidityString = \"function makeMachine() internal {\\n\"\n",
    "    for index, reel in enumerate(machine):\n",
    "        reelString0 = \"    reels[%s].probDenominator = %s;\\n\" % (str(index), str(precision))\n",
    "        reelString1 = \"    reels[%s].probs = %s;\\n\" % (str(index), str([int(i[1] * precision) for i in reel]))\n",
    "        reelString2 = \"    reels[%s].eventLabels = %s;\\n\" % (str(index), str([i[0] for i in reel]))\n",
    "        \n",
    "        reelString = reelString0 + reelString1 + reelString2\n",
    "        solidityString += reelString\n",
    "    return solidityString + \"}\"\n",
    "\n"
   ]
  },
  {
   "cell_type": "code",
   "execution_count": 11,
   "metadata": {},
   "outputs": [
    {
     "name": "stdout",
     "output_type": "stream",
     "text": [
      "Probabilities sum to 1? [1.0, 1.0, 1.0, 1.0, 1.0]\n"
     ]
    }
   ],
   "source": [
    "numSymbolOnReel = [10,10,10,10,10]\n",
    "numSymbolTotal = 20\n",
    "precision = 1000\n",
    "\n",
    "numReel = len(numSymbolOnReel)\n",
    "\n",
    "machineOne = makeMachine(numSymbolOnReel, numSymbolTotal, precision)"
   ]
  },
  {
   "cell_type": "code",
   "execution_count": 12,
   "metadata": {},
   "outputs": [
    {
     "name": "stdout",
     "output_type": "stream",
     "text": [
      "{1: 0.4938190839287338, 2: 0.41257015280216053, 3: 0.08842449168671203, 4: 0.005184502002271999, 5: 1.76958012e-06, '33333': 1.76958012e-06}\n",
      "0.9999999999999984\n"
     ]
    }
   ],
   "source": [
    "probDict = evaluateMachine(machineOne)\n",
    "print(probDict)\n",
    "print(sum([i[1] for i in probDict.items() if type(i[0]) == int]))"
   ]
  },
  {
   "cell_type": "code",
   "execution_count": 13,
   "metadata": {},
   "outputs": [],
   "source": [
    "payoutString = probDictToSolidity(probDict,[4,5])"
   ]
  },
  {
   "cell_type": "code",
   "execution_count": 15,
   "metadata": {},
   "outputs": [],
   "source": [
    "makeMachineString = makeMachineToSolidity(machineOne)"
   ]
  },
  {
   "cell_type": "code",
   "execution_count": 16,
   "metadata": {},
   "outputs": [],
   "source": [
    "solidityCode = '''\n",
    "// ******************************\n",
    "// DEFINE THE MACHINE\n",
    "\n",
    "  // MACHINE SPECIFIC CONSTANTS AND VARIABLES\n",
    "  uint8 constant numReel = %s;\n",
    "  \n",
    "  // DEFINE THE PROBABILITIES FOR THE REEL SYMBOLS\n",
    "  %s\n",
    "  \n",
    "  // CALCULATE THE PAYOUT\n",
    "  function paytable(uint[numReel] memory outcome, uint betAmount) internal returns (uint) {\n",
    "    uint maxMatch = countMaxMatch(outcome);\n",
    "%s}\n",
    "  \n",
    "// END MACHINE DEFINITION\n",
    "// ***************************************\n",
    "  \n",
    "''' % (str(numReel), makeMachineString, payoutString)"
   ]
  },
  {
   "cell_type": "code",
   "execution_count": 17,
   "metadata": {},
   "outputs": [
    {
     "name": "stdout",
     "output_type": "stream",
     "text": [
      "\n",
      "// ******************************\n",
      "// DEFINE THE MACHINE\n",
      "\n",
      "  // MACHINE SPECIFIC CONSTANTS AND VARIABLES\n",
      "  uint8 constant numReel = 5;\n",
      "  \n",
      "  // DEFINE THE PROBABILITIES FOR THE REEL SYMBOLS\n",
      "  function makeMachine() internal {\n",
      "    reels[0].probDenominator = 1000;\n",
      "    reels[0].probs = [271, 209, 110, 109, 89, 74, 70, 34, 31, 3];\n",
      "    reels[0].eventLabels = [15, 12, 3, 9, 17, 19, 6, 5, 11, 18];\n",
      "    reels[1].probDenominator = 1000;\n",
      "    reels[1].probs = [239, 204, 147, 123, 100, 84, 51, 31, 17, 4];\n",
      "    reels[1].eventLabels = [7, 12, 3, 11, 0, 2, 19, 16, 6, 5];\n",
      "    reels[2].probDenominator = 1000;\n",
      "    reels[2].probs = [309, 218, 129, 128, 81, 53, 43, 31, 8, 0];\n",
      "    reels[2].eventLabels = [16, 3, 11, 14, 6, 7, 13, 5, 19, 18];\n",
      "    reels[3].probDenominator = 1000;\n",
      "    reels[3].probs = [251, 170, 130, 113, 80, 75, 63, 60, 41, 17];\n",
      "    reels[3].eventLabels = [3, 16, 18, 10, 14, 2, 12, 9, 7, 5];\n",
      "    reels[4].probDenominator = 1000;\n",
      "    reels[4].probs = [236, 183, 177, 129, 78, 64, 49, 47, 35, 2];\n",
      "    reels[4].eventLabels = [12, 2, 18, 19, 14, 13, 11, 17, 16, 3];\n",
      "}\n",
      "  \n",
      "  // CALCULATE THE PAYOUT\n",
      "  function paytable(uint[numReel] memory outcome, uint betAmount) internal returns (uint) {\n",
      "    uint maxMatch = countMaxMatch(outcome);\n",
      "    if (maxMatch == 4) {\n",
      "      return betAmount * 96;\n",
      "    }\n",
      "    if (maxMatch == 5) {\n",
      "      return betAmount * 282552;\n",
      "    }\n",
      "}\n",
      "  \n",
      "// END MACHINE DEFINITION\n",
      "// ***************************************\n",
      "  \n",
      "\n"
     ]
    }
   ],
   "source": [
    "print(solidityCode)"
   ]
  },
  {
   "cell_type": "code",
   "execution_count": null,
   "metadata": {},
   "outputs": [],
   "source": []
  }
 ],
 "metadata": {
  "kernelspec": {
   "display_name": "Python 3",
   "language": "python",
   "name": "python3"
  },
  "language_info": {
   "codemirror_mode": {
    "name": "ipython",
    "version": 3
   },
   "file_extension": ".py",
   "mimetype": "text/x-python",
   "name": "python",
   "nbconvert_exporter": "python",
   "pygments_lexer": "ipython3",
   "version": "3.6.5"
  }
 },
 "nbformat": 4,
 "nbformat_minor": 2
}

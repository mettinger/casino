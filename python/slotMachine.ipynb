{
 "cells": [
  {
   "cell_type": "markdown",
   "metadata": {},
   "source": [
    "# This notebook contains tools and utilities for making and verifying custom slot machines for deployment on Ethereum."
   ]
  },
  {
   "cell_type": "code",
   "execution_count": 5,
   "metadata": {},
   "outputs": [],
   "source": [
    "import numpy as np\n",
    "import itertools\n",
    "from collections import Counter\n",
    "import itertools"
   ]
  },
  {
   "cell_type": "code",
   "execution_count": 2,
   "metadata": {},
   "outputs": [],
   "source": [
    "def makeSymbolList(numSymbolOnReel, numSymbolTotal, precision):\n",
    "    fenceposts = [round(i, int(np.log10(precision))) for i in list(np.random.random(size=numSymbolOnReel - 1))]\n",
    "    fenceposts = sorted([0] + fenceposts + [1])\n",
    "    symbols = np.random.choice(numSymbolTotal, size=numSymbolOnReel, replace=False)\n",
    "    symbolList = [(symbols[i],round((fenceposts[i+1] - fenceposts[i]), \n",
    "                                    int(np.log10(precision)))) for i in range(numSymbolOnReel)]\n",
    "    return symbolList\n",
    "    \n",
    "def makeMachine(numSymbolList, numSymbolsTotal, precision):\n",
    "    if numSymbolsTotal < max(numSymbolList):\n",
    "        print(\"Total number of symbols too small...\")\n",
    "        return\n",
    "    numReel = len(numSymbolList)\n",
    "    machineDefList = [sorted(makeSymbolList(numSymbolList[i], \n",
    "                                            numSymbolsTotal, precision),\n",
    "                             key=lambda x: x[1], reverse = True) for i in range(numReel)]\n",
    "    print(\"Probabilities sum to 1? \" + str([sum([j[1] for j in i]) for i in machineDefList]))\n",
    "    return machineDefList\n",
    "\n",
    "def evaluateMachine(machineDefList):\n",
    "    numReel = len(machineDefList)\n",
    "    probDict = {i:0 for i in range(1, numReel + 1)}\n",
    "    for thisTuple in itertools.product(*machineDefList):\n",
    "        #thisCount = numReel + 1 - len(set([i[0] for i in thisTuple]))\n",
    "        thisCount = Counter([i[0] for i in thisTuple]).most_common()[0][1]\n",
    "        thisProb = np.product([i[1] for i in thisTuple])\n",
    "        if thisCount == numReel:\n",
    "            probDict[str(thisTuple[0][0]) * numReel] = thisProb\n",
    "        probDict[thisCount] += thisProb\n",
    "    return probDict\n",
    "\n",
    "def probDictToSolidity(probDict, payoutKeys):\n",
    "    payoutString = \"\"\n",
    "    numPayout = len(payoutKeys)\n",
    "    maxMultiplier = 1;\n",
    "    for thisKey in payoutKeys:\n",
    "        thisProb = probDict[thisKey]\n",
    "        thisMultiplier = int(1./(thisProb * numPayout))\n",
    "        maxMultiplier = max(maxMultiplier, thisMultiplier)\n",
    "        thisString = \"    if (maxMatch == %s) {\\n      return betAmount * %s;\\n    }\\n\" % (thisKey, str(thisMultiplier))\n",
    "        payoutString += thisString\n",
    "    return (payoutString, maxMultiplier)\n",
    "\n",
    "def makeMachineToSolidity(machine):\n",
    "    flatMachine = [item for sublist in machine for item in sublist]\n",
    "    precision = max([10**(len(str(i[1]).split(\".\")[1])) for i in flatMachine])\n",
    "    solidityString = \"function makeMachine() internal {\\n\"\n",
    "    for index, reel in enumerate(machine):\n",
    "        reelString0 = \"    reels[%s].probDenominator = %s;\\n\" % (str(index), str(precision))\n",
    "        reelString1 = \"    reels[%s].probs = %s;\\n\" % (str(index), str([int(i[1] * precision) for i in reel]))\n",
    "        reelString2 = \"    reels[%s].eventLabels = %s;\\n\" % (str(index), str([i[0] for i in reel]))\n",
    "        \n",
    "        reelString = reelString0 + reelString1 + reelString2\n",
    "        solidityString += reelString\n",
    "    return solidityString + \"}\"\n",
    "\n",
    "def makeSimpleMachine(numReels, numSymbols, probList):\n",
    "    if sum(probList) - 1 > .00000001:\n",
    "        print(\"Invalid probability list...\")\n",
    "        return None\n",
    "    else:\n",
    "        return [[(j,probList[j]) for j in range(numSymbols)] for i in range(numReels)]\n",
    "    \n",
    "def normalizeReel(reel):\n",
    "    return [(reel.eventLabels[i], reel.probs[i]/float(reel.probDenominator)) for i in range(len(reel.eventLabels))]\n",
    "\n",
    "def expectedValueForOutcome(normalizedOutcome, paytable):\n",
    "    symbols, probs = zip(*normalizedOutcome)\n",
    "    return paytable(symbols) * np.product(probs)\n",
    "    \n",
    "def expectedValue(reels, paytable):\n",
    "    normalizedReels = [normalizeReel(reel) for reel in reels]\n",
    "    allOutcomes = itertools.product(*normalizedReels)\n",
    "    return sum([expectedValueForOutcome(thisOutcome, paytable) for thisOutcome in allOutcomes])"
   ]
  },
  {
   "cell_type": "markdown",
   "metadata": {},
   "source": [
    "## Define slot machine"
   ]
  },
  {
   "cell_type": "code",
   "execution_count": 6,
   "metadata": {},
   "outputs": [],
   "source": [
    "numSymbolOnReel = [9,9,9,9,9]\n",
    "numSymbolTotal = 9\n",
    "precision = 1000\n",
    "\n",
    "numReel = len(numSymbolOnReel)\n",
    "\n",
    "#machineOne = makeMachine(numSymbolOnReel, numSymbolTotal, precision)\n",
    "machineOne = makeSimpleMachine(5, 9, [.12, .11, .11, .11, .11, .11, .11, .11, .11])"
   ]
  },
  {
   "cell_type": "code",
   "execution_count": 7,
   "metadata": {},
   "outputs": [
    {
     "name": "stdout",
     "output_type": "stream",
     "text": [
      "{1: 0.25580755200001704, 2: 0.6401897040001812, 3: 0.09772443999998831, 4: 0.0061245800000000105, 5: 0.000153724, '00000': 2.48832e-05, '11111': 1.61051e-05, '22222': 1.61051e-05, '33333': 1.61051e-05, '44444': 1.61051e-05, '55555': 1.61051e-05, '66666': 1.61051e-05, '77777': 1.61051e-05, '88888': 1.61051e-05}\n",
      "1.0000000000001865\n"
     ]
    }
   ],
   "source": [
    "probDict = evaluateMachine(machineOne)\n",
    "print(probDict)\n",
    "print(sum([i[1] for i in probDict.items() if type(i[0]) == int]))"
   ]
  },
  {
   "cell_type": "markdown",
   "metadata": {},
   "source": [
    "## Construct Solidity contract code to define the slot machine."
   ]
  },
  {
   "cell_type": "code",
   "execution_count": 8,
   "metadata": {},
   "outputs": [],
   "source": [
    "payoutString, maxMultiplier = probDictToSolidity(probDict,[4,5])"
   ]
  },
  {
   "cell_type": "code",
   "execution_count": 9,
   "metadata": {},
   "outputs": [],
   "source": [
    "makeMachineString = makeMachineToSolidity(machineOne)"
   ]
  },
  {
   "cell_type": "code",
   "execution_count": 10,
   "metadata": {},
   "outputs": [],
   "source": [
    "solidityCode = '''\n",
    "// ******************************\n",
    "// START MACHINE DEFINITION\n",
    "\n",
    "  // MACHINE SPECIFIC CONSTANTS AND VARIABLES\n",
    "  uint8 constant numReel = %s;\n",
    "  uint constant public maxMultipler = %s;\n",
    "  \n",
    "  // DEFINE THE PROBABILITIES FOR THE REEL SYMBOLS\n",
    "  %s\n",
    "  \n",
    "  // CALCULATE THE PAYOUT\n",
    "  function paytable(uint[numReel] memory outcome, uint betAmount) internal returns (uint) {\n",
    "    uint maxMatch = countMaxMatch(outcome);\n",
    "%s}\n",
    "  \n",
    "// END MACHINE DEFINITION\n",
    "// ***************************************\n",
    "  \n",
    "''' % (str(numReel), str(maxMultiplier), makeMachineString, payoutString)"
   ]
  },
  {
   "cell_type": "markdown",
   "metadata": {},
   "source": [
    "## Print Solidity code for cut and paste into contract."
   ]
  },
  {
   "cell_type": "code",
   "execution_count": 11,
   "metadata": {},
   "outputs": [
    {
     "name": "stdout",
     "output_type": "stream",
     "text": [
      "\n",
      "// ******************************\n",
      "// START MACHINE DEFINITION\n",
      "\n",
      "  // MACHINE SPECIFIC CONSTANTS AND VARIABLES\n",
      "  uint8 constant numReel = 5;\n",
      "  uint constant public maxMultipler = 3252;\n",
      "  \n",
      "  // DEFINE THE PROBABILITIES FOR THE REEL SYMBOLS\n",
      "  function makeMachine() internal {\n",
      "    reels[0].probDenominator = 100;\n",
      "    reels[0].probs = [12, 11, 11, 11, 11, 11, 11, 11, 11];\n",
      "    reels[0].eventLabels = [0, 1, 2, 3, 4, 5, 6, 7, 8];\n",
      "    reels[1].probDenominator = 100;\n",
      "    reels[1].probs = [12, 11, 11, 11, 11, 11, 11, 11, 11];\n",
      "    reels[1].eventLabels = [0, 1, 2, 3, 4, 5, 6, 7, 8];\n",
      "    reels[2].probDenominator = 100;\n",
      "    reels[2].probs = [12, 11, 11, 11, 11, 11, 11, 11, 11];\n",
      "    reels[2].eventLabels = [0, 1, 2, 3, 4, 5, 6, 7, 8];\n",
      "    reels[3].probDenominator = 100;\n",
      "    reels[3].probs = [12, 11, 11, 11, 11, 11, 11, 11, 11];\n",
      "    reels[3].eventLabels = [0, 1, 2, 3, 4, 5, 6, 7, 8];\n",
      "    reels[4].probDenominator = 100;\n",
      "    reels[4].probs = [12, 11, 11, 11, 11, 11, 11, 11, 11];\n",
      "    reels[4].eventLabels = [0, 1, 2, 3, 4, 5, 6, 7, 8];\n",
      "}\n",
      "  \n",
      "  // CALCULATE THE PAYOUT\n",
      "  function paytable(uint[numReel] memory outcome, uint betAmount) internal returns (uint) {\n",
      "    uint maxMatch = countMaxMatch(outcome);\n",
      "    if (maxMatch == 4) {\n",
      "      return betAmount * 81;\n",
      "    }\n",
      "    if (maxMatch == 5) {\n",
      "      return betAmount * 3252;\n",
      "    }\n",
      "}\n",
      "  \n",
      "// END MACHINE DEFINITION\n",
      "// ***************************************\n",
      "  \n",
      "\n"
     ]
    }
   ],
   "source": [
    "print(solidityCode)"
   ]
  },
  {
   "cell_type": "markdown",
   "metadata": {},
   "source": [
    "# Code for verifying slot machine expected value"
   ]
  },
  {
   "cell_type": "code",
   "execution_count": 12,
   "metadata": {},
   "outputs": [],
   "source": [
    "class Reel():\n",
    "    def __init__(self):\n",
    "        self.probDenominator = 0\n",
    "        self.probs = []\n",
    "        self.eventLabels = []\n",
    "        \n",
    "    def __repr__(self):\n",
    "        return str((self.probDenominator, self.probs, self.eventLabels))"
   ]
  },
  {
   "cell_type": "markdown",
   "metadata": {},
   "source": [
    "## Paste machine definition from contract here."
   ]
  },
  {
   "cell_type": "code",
   "execution_count": 13,
   "metadata": {},
   "outputs": [
    {
     "data": {
      "text/plain": [
       "[(100, [12, 11, 11, 11, 11, 11, 11, 11, 11], [0, 1, 2, 3, 4, 5, 6, 7, 8]),\n",
       " (100, [12, 11, 11, 11, 11, 11, 11, 11, 11], [0, 1, 2, 3, 4, 5, 6, 7, 8]),\n",
       " (100, [12, 11, 11, 11, 11, 11, 11, 11, 11], [0, 1, 2, 3, 4, 5, 6, 7, 8]),\n",
       " (100, [12, 11, 11, 11, 11, 11, 11, 11, 11], [0, 1, 2, 3, 4, 5, 6, 7, 8]),\n",
       " (100, [12, 11, 11, 11, 11, 11, 11, 11, 11], [0, 1, 2, 3, 4, 5, 6, 7, 8])]"
      ]
     },
     "execution_count": 13,
     "metadata": {},
     "output_type": "execute_result"
    }
   ],
   "source": [
    "reels = [Reel() for i in range(5)]\n",
    "\n",
    "reels[0].probDenominator = 100;\n",
    "reels[0].probs = [12, 11, 11, 11, 11, 11, 11, 11, 11];\n",
    "reels[0].eventLabels = [0, 1, 2, 3, 4, 5, 6, 7, 8];\n",
    "reels[1].probDenominator = 100;\n",
    "reels[1].probs = [12, 11, 11, 11, 11, 11, 11, 11, 11];\n",
    "reels[1].eventLabels = [0, 1, 2, 3, 4, 5, 6, 7, 8];\n",
    "reels[2].probDenominator = 100;\n",
    "reels[2].probs = [12, 11, 11, 11, 11, 11, 11, 11, 11];\n",
    "reels[2].eventLabels = [0, 1, 2, 3, 4, 5, 6, 7, 8];\n",
    "reels[3].probDenominator = 100;\n",
    "reels[3].probs = [12, 11, 11, 11, 11, 11, 11, 11, 11];\n",
    "reels[3].eventLabels = [0, 1, 2, 3, 4, 5, 6, 7, 8];\n",
    "reels[4].probDenominator = 100;\n",
    "reels[4].probs = [12, 11, 11, 11, 11, 11, 11, 11, 11];\n",
    "reels[4].eventLabels = [0, 1, 2, 3, 4, 5, 6, 7, 8];\n",
    "\n",
    "reels"
   ]
  },
  {
   "cell_type": "markdown",
   "metadata": {},
   "source": [
    "## Define pyton paytable function by converting from Solidity paytable function in contract"
   ]
  },
  {
   "cell_type": "code",
   "execution_count": 17,
   "metadata": {},
   "outputs": [],
   "source": [
    "'''\n",
    "SOLIDITY PAYTABLE \n",
    "\n",
    "function paytable(uint[numReel] memory outcome, uint betAmount) internal returns (uint) {\n",
    "    uint maxMatch = countMaxMatch(outcome);\n",
    "    if (maxMatch == 4) {\n",
    "      return betAmount * 81;\n",
    "    }\n",
    "    if (maxMatch == 5) {\n",
    "      return betAmount * 3252;\n",
    "    }\n",
    "  }\n",
    "'''\n",
    "\n",
    "def paytable(outcome):\n",
    "    \n",
    "    def countMaxMatch(outcome):\n",
    "        counter = Counter(outcome)\n",
    "        return counter.most_common()[0][1]\n",
    "\n",
    "    maxMatch = countMaxMatch(outcome)\n",
    "    if (maxMatch == 4):\n",
    "        return 81\n",
    "    elif (maxMatch == 5):\n",
    "        return 3252\n",
    "    else:\n",
    "        return 0\n"
   ]
  },
  {
   "cell_type": "markdown",
   "metadata": {},
   "source": [
    "## Calculate expected value"
   ]
  },
  {
   "cell_type": "code",
   "execution_count": 16,
   "metadata": {},
   "outputs": [
    {
     "data": {
      "text/plain": [
       "0.9960014280000034"
      ]
     },
     "execution_count": 16,
     "metadata": {},
     "output_type": "execute_result"
    }
   ],
   "source": [
    "expectedValue(reels, paytable)"
   ]
  }
 ],
 "metadata": {
  "kernelspec": {
   "display_name": "Python 3",
   "language": "python",
   "name": "python3"
  },
  "language_info": {
   "codemirror_mode": {
    "name": "ipython",
    "version": 3
   },
   "file_extension": ".py",
   "mimetype": "text/x-python",
   "name": "python",
   "nbconvert_exporter": "python",
   "pygments_lexer": "ipython3",
   "version": "3.6.5"
  }
 },
 "nbformat": 4,
 "nbformat_minor": 2
}

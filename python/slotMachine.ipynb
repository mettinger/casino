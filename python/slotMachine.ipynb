{
 "cells": [
  {
   "cell_type": "code",
   "execution_count": 1,
   "metadata": {},
   "outputs": [],
   "source": [
    "import numpy as np\n",
    "import itertools"
   ]
  },
  {
   "cell_type": "code",
   "execution_count": 61,
   "metadata": {},
   "outputs": [],
   "source": [
    "def makeSymbolList(numSymbolOnReel, numSymbolTotal, precision):\n",
    "    fenceposts = [round(i, int(np.log10(precision))) for i in list(np.random.random(size=numSymbolOnReel - 1))]\n",
    "    fenceposts = sorted([0] + fenceposts + [1])\n",
    "    symbols = np.random.choice(numSymbolTotal, size=numSymbolOnReel, replace=False)\n",
    "    symbolList = [(symbols[i],round((fenceposts[i+1] - fenceposts[i]), \n",
    "                                    int(np.log10(precision)))) for i in range(numSymbolOnReel)]\n",
    "    return symbolList\n",
    "    \n",
    "def makeMachine(numSymbolList, numSymbolsTotal, precision):\n",
    "    if numSymbolsTotal < max(numSymbolList):\n",
    "        print(\"Total number of symbols too small...\")\n",
    "        return\n",
    "    numReel = len(numSymbolList)\n",
    "    machineDefList = [sorted(makeSymbolList(numSymbolList[i], \n",
    "                                            numSymbolsTotal, precision),\n",
    "                             key=lambda x: x[1], reverse = True) for i in range(numReel)]\n",
    "    print(\"Probabilities sum to 1? \" + str([sum([j[1] for j in i]) for i in machineDefList]))\n",
    "    return machineDefList\n",
    "\n",
    "def evaluateMachine(machineDefList):\n",
    "    numReel = len(machineDefList)\n",
    "    probDict = {i:0 for i in range(1, numReel + 1)}\n",
    "    for thisTuple in itertools.product(*machineDefList):\n",
    "        thisCount = numReel + 1 - len(set([i[0] for i in thisTuple]))\n",
    "        thisProb = np.product([i[1] for i in thisTuple])\n",
    "        if thisCount == numReel:\n",
    "            probDict[str(thisTuple[0][0]) * numReel] = thisProb\n",
    "        probDict[thisCount] += thisProb\n",
    "    return probDict\n",
    "\n",
    "def probDictToSolidity(probDict, payoutKeys):\n",
    "    payoutString = \"\"\n",
    "    numPayout = len(payoutKeys)\n",
    "    for thisKey in payoutKeys:\n",
    "        thisProb = probDict[thisKey]\n",
    "        thisString = \"    if (maxMatch == %s) {\\n      return betAmount * %s;\\n    }\\n\" % (thisKey, str(int(1./(thisProb * numPayout))))\n",
    "        payoutString += thisString\n",
    "    return payoutString\n",
    "\n",
    "def makeMachineToSolidity(machine):\n",
    "    flatMachine = [item for sublist in machine for item in sublist]\n",
    "    precision = max([10**(len(str(i[1]).split(\".\")[1])) for i in flatMachine])\n",
    "    solidityString = \"function makeMachine() internal {\\n\"\n",
    "    for index, reel in enumerate(machine):\n",
    "        reelString0 = \"    reels[%s].probDenominator = %s;\\n\" % (str(index), str(precision))\n",
    "        reelString1 = \"    reels[%s].probs = %s;\\n\" % (str(index), str([int(i[1] * precision) for i in reel]))\n",
    "        reelString2 = \"    reels[%s].eventLabels = %s;\\n\" % (str(index), str([i[0] for i in reel]))\n",
    "        \n",
    "        reelString = reelString0 + reelString1 + reelString2\n",
    "        solidityString += reelString\n",
    "    return solidityString + \"}\"\n",
    "\n",
    "def makeSimpleMachine(numReels, numSymbols, probList):\n",
    "    if sum(probList) != 1:\n",
    "        print(\"Invalid probability list...\")\n",
    "        return None\n",
    "    else:\n",
    "        return [[(j,probList[j]) for j in range(numSymbols)] for i in range(numReels)]"
   ]
  },
  {
   "cell_type": "code",
   "execution_count": 62,
   "metadata": {},
   "outputs": [],
   "source": [
    "numSymbolOnReel = [8,8,8,8,8]\n",
    "numSymbolTotal = 8\n",
    "precision = 1000\n",
    "\n",
    "numReel = len(numSymbolOnReel)\n",
    "\n",
    "#machineOne = makeMachine(numSymbolOnReel, numSymbolTotal, precision)\n",
    "machineOne = makeSimpleMachine(5, 8, [.12, .12, .12, .12, .13, .13, .13, .13])"
   ]
  },
  {
   "cell_type": "code",
   "execution_count": 63,
   "metadata": {},
   "outputs": [
    {
     "name": "stdout",
     "output_type": "stream",
     "text": [
      "{1: 0.2046096000000028, 2: 0.5124605999999942, 3: 0.2568866999999949, 4: 0.025795050000000135, 5: 0.00024805, '00000': 2.48832e-05, '11111': 2.48832e-05, '22222': 2.48832e-05, '33333': 2.48832e-05, '44444': 3.712930000000001e-05, '55555': 3.712930000000001e-05, '66666': 3.712930000000001e-05, '77777': 3.712930000000001e-05}\n",
      "0.9999999999999921\n"
     ]
    }
   ],
   "source": [
    "probDict = evaluateMachine(machineOne)\n",
    "print(probDict)\n",
    "print(sum([i[1] for i in probDict.items() if type(i[0]) == int]))"
   ]
  },
  {
   "cell_type": "code",
   "execution_count": 64,
   "metadata": {},
   "outputs": [],
   "source": [
    "payoutString = probDictToSolidity(probDict,[4,5])"
   ]
  },
  {
   "cell_type": "code",
   "execution_count": 65,
   "metadata": {},
   "outputs": [],
   "source": [
    "makeMachineString = makeMachineToSolidity(machineOne)"
   ]
  },
  {
   "cell_type": "code",
   "execution_count": 66,
   "metadata": {},
   "outputs": [],
   "source": [
    "solidityCode = '''\n",
    "// ******************************\n",
    "// DEFINE THE MACHINE\n",
    "\n",
    "  // MACHINE SPECIFIC CONSTANTS AND VARIABLES\n",
    "  uint8 constant numReel = %s;\n",
    "  \n",
    "  // DEFINE THE PROBABILITIES FOR THE REEL SYMBOLS\n",
    "  %s\n",
    "  \n",
    "  // CALCULATE THE PAYOUT\n",
    "  function paytable(uint[numReel] memory outcome, uint betAmount) internal returns (uint) {\n",
    "    uint maxMatch = countMaxMatch(outcome);\n",
    "%s}\n",
    "  \n",
    "// END MACHINE DEFINITION\n",
    "// ***************************************\n",
    "  \n",
    "''' % (str(numReel), makeMachineString, payoutString)"
   ]
  },
  {
   "cell_type": "code",
   "execution_count": 67,
   "metadata": {},
   "outputs": [
    {
     "name": "stdout",
     "output_type": "stream",
     "text": [
      "\n",
      "// ******************************\n",
      "// DEFINE THE MACHINE\n",
      "\n",
      "  // MACHINE SPECIFIC CONSTANTS AND VARIABLES\n",
      "  uint8 constant numReel = 5;\n",
      "  \n",
      "  // DEFINE THE PROBABILITIES FOR THE REEL SYMBOLS\n",
      "  function makeMachine() internal {\n",
      "    reels[0].probDenominator = 100;\n",
      "    reels[0].probs = [12, 12, 12, 12, 13, 13, 13, 13];\n",
      "    reels[0].eventLabels = [0, 1, 2, 3, 4, 5, 6, 7];\n",
      "    reels[1].probDenominator = 100;\n",
      "    reels[1].probs = [12, 12, 12, 12, 13, 13, 13, 13];\n",
      "    reels[1].eventLabels = [0, 1, 2, 3, 4, 5, 6, 7];\n",
      "    reels[2].probDenominator = 100;\n",
      "    reels[2].probs = [12, 12, 12, 12, 13, 13, 13, 13];\n",
      "    reels[2].eventLabels = [0, 1, 2, 3, 4, 5, 6, 7];\n",
      "    reels[3].probDenominator = 100;\n",
      "    reels[3].probs = [12, 12, 12, 12, 13, 13, 13, 13];\n",
      "    reels[3].eventLabels = [0, 1, 2, 3, 4, 5, 6, 7];\n",
      "    reels[4].probDenominator = 100;\n",
      "    reels[4].probs = [12, 12, 12, 12, 13, 13, 13, 13];\n",
      "    reels[4].eventLabels = [0, 1, 2, 3, 4, 5, 6, 7];\n",
      "}\n",
      "  \n",
      "  // CALCULATE THE PAYOUT\n",
      "  function paytable(uint[numReel] memory outcome, uint betAmount) internal returns (uint) {\n",
      "    uint maxMatch = countMaxMatch(outcome);\n",
      "    if (maxMatch == 4) {\n",
      "      return betAmount * 19;\n",
      "    }\n",
      "    if (maxMatch == 5) {\n",
      "      return betAmount * 2015;\n",
      "    }\n",
      "}\n",
      "  \n",
      "// END MACHINE DEFINITION\n",
      "// ***************************************\n",
      "  \n",
      "\n"
     ]
    }
   ],
   "source": [
    "print(solidityCode)"
   ]
  }
 ],
 "metadata": {
  "kernelspec": {
   "display_name": "Python 3",
   "language": "python",
   "name": "python3"
  },
  "language_info": {
   "codemirror_mode": {
    "name": "ipython",
    "version": 3
   },
   "file_extension": ".py",
   "mimetype": "text/x-python",
   "name": "python",
   "nbconvert_exporter": "python",
   "pygments_lexer": "ipython3",
   "version": "3.6.5"
  }
 },
 "nbformat": 4,
 "nbformat_minor": 2
}
